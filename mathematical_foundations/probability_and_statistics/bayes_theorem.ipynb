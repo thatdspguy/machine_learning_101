{
 "cells": [
  {
   "cell_type": "markdown",
   "metadata": {},
   "source": [
    "# Bayes' Theorem\n",
    "\n",
    "Bayes' Theorem is a fundamental concept in probability theory and statistics that describes the relationship between conditional probabilities. It provides a mathematical framework for updating the probability of a hypothesis based on new evidence and is essential for many machine learning algorithms and inferential statistics.\n",
    "\n",
    "## Definition\n",
    "\n",
    "Bayes' Theorem is expressed as:\n",
    "\n",
    "$$ P(A|B) = \\frac{P(B|A)P(A)}{P(B)} $$\n",
    "\n",
    "where:\n",
    "- $P(A|B)$ is the posterior probability, the probability of hypothesis $A$ given the evidence $B$.\n",
    "- $P(B|A)$ is the likelihood, the probability of evidence $B$ given that hypothesis $A$ is true.\n",
    "- $P(A)$ is the prior probability, the initial probability of hypothesis $A$ before observing the evidence $B$.\n",
    "- $P(B)$ is the marginal probability, the total probability of the evidence $B$.\n",
    "\n",
    "## Intuition\n",
    "\n",
    "Bayes' Theorem allows us to update our beliefs about the probability of a hypothesis based on new evidence. It combines the prior probability with the likelihood of the new evidence to produce the posterior probability.\n",
    "\n",
    "### Example: Medical Diagnosis\n",
    "\n",
    "Suppose a patient undergoes a test for a rare disease. The test is 99% accurate, meaning it correctly identifies 99% of diseased and 99% of healthy individuals. The disease affects 1 in 10,000 people. We want to find the probability that the patient has the disease given a positive test result.\n",
    "\n",
    "- $P(\\text{Disease}) = 0.0001$ (prior probability)\n",
    "- $P(\\text{Positive Test}|\\text{Disease}) = 0.99$ (likelihood)\n",
    "- $P(\\text{Positive Test}|\\text{No Disease}) = 0.01$ (false positive rate)\n",
    "- $P(\\text{No Disease}) = 1 - P(\\text{Disease}) = 0.9999$\n",
    "\n",
    "We need to calculate $P(\\text{Positive Test})$:\n",
    "\n",
    "$$ P(\\text{Positive Test}) = P(\\text{Positive Test}|\\text{Disease})P(\\text{Disease}) + P(\\text{Positive Test}|\\text{No Disease})P(\\text{No Disease}) $$\n",
    "\n",
    "$$ = (0.99 \\times 0.0001) + (0.01 \\times 0.9999) $$\n",
    "\n",
    "$$ = 0.000099 + 0.009999 $$\n",
    "\n",
    "$$ = 0.010098 $$\n",
    "\n",
    "Now, we can use Bayes' Theorem to find the posterior probability:\n",
    "\n",
    "$$ P(\\text{Disease}|\\text{Positive Test}) = \\frac{P(\\text{Positive Test}|\\text{Disease})P(\\text{Disease})}{P(\\text{Positive Test})} $$\n",
    "\n",
    "$$ = \\frac{0.99 \\times 0.0001}{0.010098} $$\n",
    "\n",
    "$$ = \\frac{0.000099}{0.010098} $$\n",
    "\n",
    "$$ \\approx 0.0098 $$\n",
    "\n",
    "So, the probability that the patient has the disease given a positive test result is approximately 0.98%.\n",
    "\n",
    "## Applications in Machine Learning\n",
    "\n",
    "Bayes' Theorem is foundational for many machine learning algorithms and techniques, including:\n",
    "\n",
    "### Naive Bayes Classifier\n",
    "\n",
    "The Naive Bayes classifier is a simple yet powerful probabilistic classifier based on Bayes' Theorem. It assumes that the features are conditionally independent given the class label, which simplifies the computation of the posterior probabilities.\n",
    "\n",
    "#### Example: Naive Bayes in Python"
   ]
  },
  {
   "cell_type": "code",
   "execution_count": 1,
   "metadata": {},
   "outputs": [
    {
     "name": "stdout",
     "output_type": "stream",
     "text": [
      "Accuracy: 97.78%\n"
     ]
    }
   ],
   "source": [
    "from sklearn.datasets import load_iris\n",
    "from sklearn.model_selection import train_test_split\n",
    "from sklearn.naive_bayes import GaussianNB\n",
    "from sklearn.metrics import accuracy_score\n",
    "\n",
    "# Load the Iris dataset\n",
    "data = load_iris()\n",
    "X = data.data\n",
    "y = data.target\n",
    "\n",
    "# Split the dataset into training and testing sets\n",
    "X_train, X_test, y_train, y_test = train_test_split(X, y, test_size=0.3, random_state=42)\n",
    "\n",
    "# Initialize the Gaussian Naive Bayes classifier\n",
    "model = GaussianNB()\n",
    "\n",
    "# Fit the model on the training data\n",
    "model.fit(X_train, y_train)\n",
    "\n",
    "# Predict the labels for the test data\n",
    "y_pred = model.predict(X_test)\n",
    "\n",
    "# Calculate the accuracy of the model\n",
    "accuracy = accuracy_score(y_test, y_pred)\n",
    "print(f\"Accuracy: {accuracy * 100:.2f}%\")"
   ]
  },
  {
   "cell_type": "markdown",
   "metadata": {},
   "source": [
    "### Bayesian Inference\n",
    "\n",
    "Bayesian inference uses Bayes' Theorem to update the probability distribution of a parameter based on observed data. It combines prior knowledge with the likelihood of the observed data to obtain the posterior distribution.\n",
    "\n",
    "### Bayesian Networks\n",
    "\n",
    "Bayesian networks are graphical models that represent the probabilistic relationships among a set of variables. They use Bayes' Theorem to perform inference and update beliefs based on new evidence.\n",
    "\n",
    "## Summary\n",
    "\n",
    "Bayes' Theorem is a powerful tool for updating probabilities based on new evidence. It is fundamental to many machine learning algorithms and techniques, providing a robust framework for probabilistic reasoning and inference. Understanding Bayes' Theorem and its applications is essential for building and interpreting machine learning models.\n",
    "\n",
    "In the next section, we will delve deeper into descriptive statistics, which provide tools for summarizing and describing the main features of a dataset."
   ]
  }
 ],
 "metadata": {
  "kernelspec": {
   "display_name": ".venv",
   "language": "python",
   "name": "python3"
  },
  "language_info": {
   "codemirror_mode": {
    "name": "ipython",
    "version": 3
   },
   "file_extension": ".py",
   "mimetype": "text/x-python",
   "name": "python",
   "nbconvert_exporter": "python",
   "pygments_lexer": "ipython3",
   "version": "3.12.3"
  }
 },
 "nbformat": 4,
 "nbformat_minor": 2
}
