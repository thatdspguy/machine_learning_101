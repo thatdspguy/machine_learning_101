{
 "cells": [
  {
   "cell_type": "markdown",
   "metadata": {},
   "source": [
    "# Inferential Statistics\n",
    "\n",
    "Inferential statistics allow us to make inferences and draw conclusions about a population based on sample data. They provide methods for estimating population parameters, testing hypotheses, and making predictions. Inferential statistics are essential for understanding the relationships between variables and for generalizing findings from a sample to a larger population.\n",
    "\n",
    "## Key Concepts\n",
    "\n",
    "### Hypothesis Testing\n",
    "\n",
    "Hypothesis testing is a method for making decisions about a population based on sample data. It involves formulating a null hypothesis ($H_0$) and an alternative hypothesis ($H_a$), then using statistical tests to determine whether there is enough evidence to reject the null hypothesis.\n",
    "\n",
    "1. **Null Hypothesis ($H_0$):** The hypothesis that there is no effect or no difference.\n",
    "2. **Alternative Hypothesis ($H_a$):** The hypothesis that there is an effect or a difference.\n",
    "3. **Test Statistic:** A value calculated from the sample data that is used to determine whether to reject $H_0$.\n",
    "4. **P-Value:** The probability of obtaining a test statistic at least as extreme as the one observed, assuming $H_0$ is true.\n",
    "5. **Significance Level ($\\alpha$):** A threshold for the p-value below which $H_0$ is rejected (commonly 0.05).\n",
    "\n",
    "### Confidence Intervals\n",
    "\n",
    "A confidence interval is a range of values used to estimate the true value of a population parameter. It provides a measure of the uncertainty associated with the estimate.\n",
    "\n",
    "- **Point Estimate:** A single value used to estimate a population parameter (e.g., sample mean).\n",
    "- **Interval Estimate:** A range of values, derived from the sample data, within which the population parameter is expected to lie with a certain level of confidence (e.g., 95% confidence interval).\n",
    "\n",
    "The formula for a confidence interval for the mean (assuming a normal distribution) is:\n",
    "\n",
    "$$ \\text{CI} = \\bar{x} \\pm z \\left(\\frac{\\sigma}{\\sqrt{n}}\\right) $$\n",
    "\n",
    "where $\\bar{x}$ is the sample mean, $z$ is the z-score corresponding to the desired confidence level, $\\sigma$ is the population standard deviation, and $n$ is the sample size.\n",
    "\n",
    "### Regression Analysis\n",
    "\n",
    "Regression analysis is a statistical method for modeling the relationship between a dependent variable and one or more independent variables. It is widely used for prediction and forecasting.\n",
    "\n",
    "1. **Simple Linear Regression:** Models the relationship between a single independent variable and a dependent variable.\n",
    "2. **Multiple Linear Regression:** Models the relationship between multiple independent variables and a dependent variable.\n",
    "\n",
    "The formula for simple linear regression is:\n",
    "\n",
    "$$ y = \\beta_0 + \\beta_1 x + \\epsilon $$\n",
    "\n",
    "where $y$ is the dependent variable, $x$ is the independent variable, $\\beta_0$ is the intercept, $\\beta_1$ is the slope, and $\\epsilon$ is the error term.\n",
    "\n",
    "## Examples of Inferential Statistics in Python\n",
    "\n",
    "### Example 1: Hypothesis Testing"
   ]
  },
  {
   "cell_type": "code",
   "execution_count": 1,
   "metadata": {},
   "outputs": [
    {
     "name": "stdout",
     "output_type": "stream",
     "text": [
      "T-Statistic: -0.49724515809884695\n",
      "P-Value: 0.6309369241258991\n",
      "Fail to reject the null hypothesis (H0)\n"
     ]
    }
   ],
   "source": [
    "import numpy as np\n",
    "from scipy import stats\n",
    "\n",
    "# Sample data\n",
    "data = np.array([10, 12, 14, 15, 18, 20, 22, 24, 25, 30])\n",
    "\n",
    "# One-sample t-test\n",
    "t_statistic, p_value = stats.ttest_1samp(data, popmean=20)\n",
    "print(f\"T-Statistic: {t_statistic}\")\n",
    "print(f\"P-Value: {p_value}\")\n",
    "\n",
    "# Interpret the result\n",
    "alpha = 0.05\n",
    "if p_value < alpha:\n",
    "    print(\"Reject the null hypothesis (H0)\")\n",
    "else:\n",
    "    print(\"Fail to reject the null hypothesis (H0)\")"
   ]
  },
  {
   "cell_type": "markdown",
   "metadata": {},
   "source": [
    "### Example 2: Confidence Intervals"
   ]
  },
  {
   "cell_type": "code",
   "execution_count": 2,
   "metadata": {},
   "outputs": [
    {
     "name": "stdout",
     "output_type": "stream",
     "text": [
      "95% Confidence Interval: (14.450620029155907, 23.549379970844093)\n"
     ]
    }
   ],
   "source": [
    "import numpy as np\n",
    "from scipy import stats\n",
    "\n",
    "# Sample data\n",
    "data = np.array([10, 12, 14, 15, 18, 20, 22, 24, 25, 30])\n",
    "\n",
    "# Calculate the sample mean and standard error\n",
    "mean = np.mean(data)\n",
    "sem = stats.sem(data)\n",
    "\n",
    "# 95% confidence interval\n",
    "confidence = 0.95\n",
    "h = sem * stats.t.ppf((1 + confidence) / 2.0, len(data) - 1)\n",
    "confidence_interval = (mean - h, mean + h)\n",
    "print(f\"95% Confidence Interval: {confidence_interval}\")"
   ]
  },
  {
   "cell_type": "markdown",
   "metadata": {},
   "source": [
    "### Example 3: Regression Analysis"
   ]
  },
  {
   "cell_type": "code",
   "execution_count": 3,
   "metadata": {},
   "outputs": [
    {
     "data": {
      "image/png": "[encoded data removed]",
      "text/plain": [
       "<Figure size 640x480 with 1 Axes>"
      ]
     },
     "metadata": {},
     "output_type": "display_data"
    },
    {
     "name": "stdout",
     "output_type": "stream",
     "text": [
      "Intercept: -1.0000000000000018\n",
      "Slope: 2.2000000000000006\n"
     ]
    }
   ],
   "source": [
    "import numpy as np\n",
    "import matplotlib.pyplot as plt\n",
    "from sklearn.linear_model import LinearRegression\n",
    "\n",
    "# Sample data\n",
    "X = np.array([1, 2, 3, 4, 5]).reshape(-1, 1)\n",
    "y = np.array([2, 3, 5, 7, 11])\n",
    "\n",
    "# Fit the model\n",
    "model = LinearRegression()\n",
    "model.fit(X, y)\n",
    "\n",
    "# Predict\n",
    "y_pred = model.predict(X)\n",
    "\n",
    "# Plot the results\n",
    "plt.scatter(X, y, color=\"blue\")\n",
    "plt.plot(X, y_pred, color=\"red\")\n",
    "plt.xlabel(\"X\")\n",
    "plt.ylabel(\"y\")\n",
    "plt.title(\"Simple Linear Regression\")\n",
    "plt.grid()\n",
    "plt.show()\n",
    "\n",
    "# Print the coefficients\n",
    "print(f\"Intercept: {model.intercept_}\")\n",
    "print(f\"Slope: {model.coef_[0]}\")"
   ]
  },
  {
   "cell_type": "markdown",
   "metadata": {},
   "source": [
    "## Summary\n",
    "\n",
    "Inferential statistics provide methods for making inferences about populations based on sample data. They are essential for hypothesis testing, estimating population parameters, and modeling relationships between variables. By mastering inferential statistics, you can make informed decisions and predictions based on data.\n",
    "\n",
    "In the next section, we will explore more advanced statistical techniques and their applications in machine learning."
   ]
  }
 ],
 "metadata": {
  "kernelspec": {
   "display_name": ".venv",
   "language": "python",
   "name": "python3"
  },
  "language_info": {
   "codemirror_mode": {
    "name": "ipython",
    "version": 3
   },
   "file_extension": ".py",
   "mimetype": "text/x-python",
   "name": "python",
   "nbconvert_exporter": "python",
   "pygments_lexer": "ipython3",
   "version": "3.12.3"
  }
 },
 "nbformat": 4,
 "nbformat_minor": 2
}
