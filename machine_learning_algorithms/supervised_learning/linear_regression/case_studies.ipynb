{
 "cells": [
  {
   "cell_type": "markdown",
   "metadata": {},
   "source": [
    "## Case Studies\n",
    "\n",
    "In this section, we will explore real-world applications of linear regression in various fields, including healthcare, finance, and marketing. These case studies demonstrate the practical utility and versatility of linear regression in solving real-world problems.\n",
    "\n",
    "### Real-World Examples\n",
    "\n",
    "#### Healthcare\n",
    "\n",
    "Linear regression is widely used in healthcare for predicting patient outcomes, understanding disease progression, and optimizing treatment plans.\n",
    "\n",
    "1. **Predicting Patient Outcomes:**\n",
    "   Linear regression can be used to predict patient outcomes based on clinical measurements and patient history. For example, it can predict the risk of readmission for patients with chronic diseases based on factors such as age, weight, blood pressure, and treatment history.\n",
    "\n",
    "2. **Understanding Disease Progression:**\n",
    "   Linear regression can help understand how different factors contribute to the progression of diseases such as diabetes, heart disease, and cancer. For example, it can model the relationship between blood sugar levels, insulin dosage, and the progression of diabetes."
   ]
  },
  {
   "cell_type": "code",
   "execution_count": 1,
   "metadata": {},
   "outputs": [
    {
     "name": "stdout",
     "output_type": "stream",
     "text": [
      "Mean Squared Error: 0.0015651761553099677\n",
      "R-squared: 0.8434823844690033\n"
     ]
    }
   ],
   "source": [
    "# Predicting Patient Outcomes\n",
    "\n",
    "import pandas as pd\n",
    "from sklearn.model_selection import train_test_split\n",
    "from sklearn.linear_model import LinearRegression\n",
    "from sklearn.metrics import mean_squared_error, r2_score\n",
    "\n",
    "# Load a sample healthcare dataset\n",
    "# For illustration, we create a synthetic dataset\n",
    "data = pd.DataFrame(\n",
    "    {\n",
    "        \"age\": [25, 45, 35, 50, 23, 40, 60, 55, 30, 70],\n",
    "        \"weight\": [70, 80, 75, 90, 68, 85, 95, 88, 78, 92],\n",
    "        \"blood_pressure\": [120, 140, 130, 150, 115, 135, 145, 138, 125, 155],\n",
    "        \"treatment_history\": [1, 3, 2, 4, 1, 3, 5, 4, 2, 5],\n",
    "        \"risk_of_readmission\": [0.2, 0.5, 0.3, 0.6, 0.1, 0.4, 0.7, 0.6, 0.3, 0.8],\n",
    "    }\n",
    ")\n",
    "\n",
    "X = data[[\"age\", \"weight\", \"blood_pressure\", \"treatment_history\"]]\n",
    "y = data[\"risk_of_readmission\"]\n",
    "\n",
    "# Split the data into training and testing sets\n",
    "X_train, X_test, y_train, y_test = train_test_split(X, y, test_size=0.2, random_state=42)\n",
    "\n",
    "# Create and train the model\n",
    "model = LinearRegression()\n",
    "model.fit(X_train, y_train)\n",
    "\n",
    "# Make predictions\n",
    "y_pred = model.predict(X_test)\n",
    "\n",
    "# Evaluate the model\n",
    "mse = mean_squared_error(y_test, y_pred)\n",
    "r2 = r2_score(y_test, y_pred)\n",
    "\n",
    "print(f\"Mean Squared Error: {mse}\")\n",
    "print(f\"R-squared: {r2}\")"
   ]
  },
  {
   "cell_type": "markdown",
   "metadata": {},
   "source": [
    "#### Finance\n",
    "\n",
    "In finance, linear regression is used for risk management, portfolio optimization, and forecasting financial metrics.\n",
    "\n",
    "1. **Stock Price Prediction:**\n",
    "Linear regression can be used to predict stock prices based on historical prices, trading volume, and economic indicators. For instance, it can model the relationship between a stock's price and factors such as interest rates, GDP growth, and inflation.\n",
    "\n",
    "2. **Credit Scoring:**\n",
    "Linear regression can be used to develop credit scoring models that assess the creditworthiness of individuals based on factors such as income, debt, and credit history. These models help financial institutions make informed lending decisions."
   ]
  },
  {
   "cell_type": "code",
   "execution_count": 2,
   "metadata": {},
   "outputs": [
    {
     "name": "stdout",
     "output_type": "stream",
     "text": [
      "Mean Squared Error: 0.5366723915998637\n",
      "R-squared: 0.9890475022122477\n"
     ]
    }
   ],
   "source": [
    "# Stock Price Prediction\n",
    "\n",
    "import pandas as pd\n",
    "from sklearn.model_selection import train_test_split\n",
    "from sklearn.linear_model import LinearRegression\n",
    "from sklearn.metrics import mean_squared_error, r2_score\n",
    "\n",
    "# Load a sample finance dataset\n",
    "# For illustration, we create a synthetic dataset\n",
    "data = pd.DataFrame(\n",
    "    {\n",
    "        \"historical_price\": [150, 155, 160, 158, 162, 165, 168, 170, 172, 175],\n",
    "        \"trading_volume\": [2000, 2200, 2100, 2050, 2150, 2300, 2400, 2350, 2500, 2550],\n",
    "        \"interest_rate\": [0.02, 0.025, 0.022, 0.023, 0.021, 0.024, 0.025, 0.026, 0.027, 0.028],\n",
    "        \"gdp_growth\": [2.5, 2.7, 2.6, 2.8, 2.5, 2.7, 2.8, 2.9, 3.0, 3.1],\n",
    "        \"stock_price\": [155, 160, 162, 161, 164, 167, 170, 172, 174, 177],\n",
    "    }\n",
    ")\n",
    "\n",
    "X = data[[\"historical_price\", \"trading_volume\", \"interest_rate\", \"gdp_growth\"]]\n",
    "y = data[\"stock_price\"]\n",
    "\n",
    "# Split the data into training and testing sets\n",
    "X_train, X_test, y_train, y_test = train_test_split(X, y, test_size=0.2, random_state=42)\n",
    "\n",
    "# Create and train the model\n",
    "model = LinearRegression()\n",
    "model.fit(X_train, y_train)\n",
    "\n",
    "# Make predictions\n",
    "y_pred = model.predict(X_test)\n",
    "\n",
    "# Evaluate the model\n",
    "mse = mean_squared_error(y_test, y_pred)\n",
    "r2 = r2_score(y_test, y_pred)\n",
    "\n",
    "print(f\"Mean Squared Error: {mse}\")\n",
    "print(f\"R-squared: {r2}\")"
   ]
  },
  {
   "cell_type": "markdown",
   "metadata": {},
   "source": [
    "#### Marketing\n",
    "\n",
    "In marketing, linear regression is used to analyze consumer behavior, optimize marketing campaigns, and forecast sales.\n",
    "\n",
    "1. **Customer Lifetime Value (CLV) Prediction:**\n",
    "Linear regression can predict the customer lifetime value based on factors such as purchase history, frequency of purchases, and customer demographics. This helps businesses identify high-value customers and tailor marketing strategies accordingly.\n",
    "\n",
    "2. **Sales Forecasting:**\n",
    "Linear regression can forecast future sales based on historical sales data, advertising spend, and seasonal trends. This helps businesses plan inventory, manage resources, and optimize marketing efforts."
   ]
  },
  {
   "cell_type": "code",
   "execution_count": 3,
   "metadata": {},
   "outputs": [
    {
     "name": "stdout",
     "output_type": "stream",
     "text": [
      "Mean Squared Error: 0.0\n",
      "R-squared: 1.0\n"
     ]
    }
   ],
   "source": [
    "# Customer Lifetime Value (CLV) Prediction\n",
    "\n",
    "import pandas as pd\n",
    "from sklearn.model_selection import train_test_split\n",
    "from sklearn.linear_model import LinearRegression\n",
    "from sklearn.metrics import mean_squared_error, r2_score\n",
    "\n",
    "# Load a sample marketing dataset\n",
    "# For illustration, we create a synthetic dataset\n",
    "data = pd.DataFrame(\n",
    "    {\n",
    "        \"purchase_history\": [200, 250, 300, 150, 100, 350, 400, 450, 500, 550],\n",
    "        \"frequency_of_purchases\": [5, 6, 7, 3, 2, 8, 9, 10, 11, 12],\n",
    "        \"customer_age\": [25, 30, 35, 22, 20, 40, 45, 50, 55, 60],\n",
    "        \"customer_income\": [50000, 60000, 70000, 40000, 30000, 80000, 90000, 100000, 110000, 120000],\n",
    "        \"clv\": [1000, 1200, 1400, 800, 600, 1600, 1800, 2000, 2200, 2400],\n",
    "    }\n",
    ")\n",
    "\n",
    "X = data[[\"purchase_history\", \"frequency_of_purchases\", \"customer_age\", \"customer_income\"]]\n",
    "y = data[\"clv\"]\n",
    "\n",
    "# Split the data into training and testing sets\n",
    "X_train, X_test, y_train, y_test = train_test_split(X, y, test_size=0.2, random_state=42)\n",
    "\n",
    "# Create and train the model\n",
    "model = LinearRegression()\n",
    "model.fit(X_train, y_train)\n",
    "\n",
    "# Make predictions\n",
    "y_pred = model.predict(X_test)\n",
    "\n",
    "# Evaluate the model\n",
    "mse = mean_squared_error(y_test, y_pred)\n",
    "r2 = r2_score(y_test, y_pred)\n",
    "\n",
    "print(f\"Mean Squared Error: {mse}\")\n",
    "print(f\"R-squared: {r2}\")"
   ]
  },
  {
   "cell_type": "code",
   "execution_count": 4,
   "metadata": {},
   "outputs": [
    {
     "name": "stdout",
     "output_type": "stream",
     "text": [
      "Mean Squared Error: 2544.7521221469146\n",
      "R-squared: 0.032878943425328044\n"
     ]
    },
    {
     "data": {
      "image/png": "[encoded data removed]",
      "text/plain": [
       "<Figure size 640x480 with 1 Axes>"
      ]
     },
     "metadata": {},
     "output_type": "display_data"
    }
   ],
   "source": [
    "# Sales Forecasting\n",
    "\n",
    "import pandas as pd\n",
    "from sklearn.model_selection import train_test_split\n",
    "from sklearn.linear_model import LinearRegression\n",
    "from sklearn.metrics import mean_squared_error, r2_score\n",
    "import matplotlib.pyplot as plt\n",
    "\n",
    "# Load the sales dataset\n",
    "data = pd.read_csv(\"sales_data.csv\")\n",
    "X = data[[\"advertising\", \"economic_index\", \"seasonality\"]].values\n",
    "y = data[\"sales\"].values\n",
    "\n",
    "# Split the data into training and testing sets\n",
    "X_train, X_test, y_train, y_test = train_test_split(X, y, test_size=0.2, random_state=42)\n",
    "\n",
    "# Create and train the model\n",
    "model = LinearRegression()\n",
    "model.fit(X_train, y_train)\n",
    "\n",
    "# Make predictions\n",
    "y_pred = model.predict(X_test)\n",
    "\n",
    "# Evaluate the model\n",
    "mse = mean_squared_error(y_test, y_pred)\n",
    "r2 = r2_score(y_test, y_pred)\n",
    "\n",
    "print(f\"Mean Squared Error: {mse}\")\n",
    "print(f\"R-squared: {r2}\")\n",
    "\n",
    "# Visualize the results\n",
    "# Plot predictions vs actual values\n",
    "plt.scatter(y_test, y_pred)\n",
    "plt.xlabel(\"Actual Sales\")\n",
    "plt.ylabel(\"Predicted Sales\")\n",
    "plt.title(\"Actual Sales vs Predicted Sales\")\n",
    "plt.grid()\n",
    "plt.show()"
   ]
  },
  {
   "cell_type": "markdown",
   "metadata": {},
   "source": [
    "### Summary\n",
    "\n",
    "These case studies highlight the versatility and practical utility of linear regression in various fields. In healthcare, it can predict patient outcomes and understand disease progression. In finance, it can forecast stock prices and assess credit risk. In marketing, it can predict customer lifetime value and forecast sales. By applying linear regression to real-world problems, businesses and organizations can make data-driven decisions and optimize their operations."
   ]
  }
 ],
 "metadata": {
  "kernelspec": {
   "display_name": ".venv",
   "language": "python",
   "name": "python3"
  },
  "language_info": {
   "codemirror_mode": {
    "name": "ipython",
    "version": 3
   },
   "file_extension": ".py",
   "mimetype": "text/x-python",
   "name": "python",
   "nbconvert_exporter": "python",
   "pygments_lexer": "ipython3",
   "version": "3.12.3"
  }
 },
 "nbformat": 4,
 "nbformat_minor": 2
}
